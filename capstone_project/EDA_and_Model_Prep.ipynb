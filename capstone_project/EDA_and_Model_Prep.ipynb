{
 "cells": [
  {
   "cell_type": "code",
   "execution_count": 1,
   "metadata": {},
   "outputs": [],
   "source": [
    "import pandas as pd\n",
    "import numpy as np\n",
    "import matplotlib.pyplot as plt\n",
    "import seaborn as sns\n",
    "import scipy as sp\n",
    "from scipy.sparse import csr_matrix\n",
    "import matplotlib.pyplot as plt\n",
    "from sklearn.preprocessing import LabelEncoder\n",
    "from collections import Counter\n",
    "import pickle"
   ]
  },
  {
   "cell_type": "code",
   "execution_count": 2,
   "metadata": {},
   "outputs": [],
   "source": [
    "user_df = pd.read_excel('data/final_user_dataframe_transposed.xlsx', index_col=0)"
   ]
  },
  {
   "cell_type": "code",
   "execution_count": 3,
   "metadata": {},
   "outputs": [
    {
     "name": "stdout",
     "output_type": "stream",
     "text": [
      "Number of Users: 101\n",
      "Number of Beers: 629\n"
     ]
    }
   ],
   "source": [
    "user_df.shape\n",
    "user_df = user_df.replace(0, np.nan) #replacing all 0 values with NaN\n",
    "\n",
    "num_of_users = len(user_df)\n",
    "num_of_beers = len(user_df.columns)\n",
    "print(f'Number of Users: {num_of_users}')\n",
    "print(f'Number of Beers: {num_of_beers}')"
   ]
  },
  {
   "cell_type": "code",
   "execution_count": 4,
   "metadata": {},
   "outputs": [
    {
     "data": {
      "text/plain": [
       "(101, 338)"
      ]
     },
     "execution_count": 4,
     "metadata": {},
     "output_type": "execute_result"
    }
   ],
   "source": [
    "user_df = user_df.dropna(axis=1, how='all') #Dropping all beers that do not have ratings\n",
    "user_df.shape"
   ]
  },
  {
   "cell_type": "code",
   "execution_count": 6,
   "metadata": {},
   "outputs": [
    {
     "data": {
      "text/plain": [
       "DEE               4.697987\n",
       "DON               5.523810\n",
       "SAM               6.396947\n",
       "EMILIA            4.750000\n",
       "MEAGAN            6.720280\n",
       "                    ...   \n",
       "Ray               6.636364\n",
       "Mike              6.736842\n",
       "Leo               5.500000\n",
       "Matt McInerney    6.625000\n",
       "Jenny             6.000000\n",
       "Length: 101, dtype: float64"
      ]
     },
     "execution_count": 6,
     "metadata": {},
     "output_type": "execute_result"
    }
   ],
   "source": [
    "avg_per_beer = np.mean(user_df) #Calculating averages\n",
    "top_rated = avg_per_beer.sort_values(ascending=False).head(10)\n",
    "\n",
    "user_averages = user_df.mean(axis=1) #Calculating average rating by user\n",
    "user_averages"
   ]
  },
  {
   "cell_type": "code",
   "execution_count": 7,
   "metadata": {},
   "outputs": [],
   "source": [
    "#Because not all beers have the same number of ratings, its standard to calculate the Bayesian averages.\n",
    "beer_stats = user_df.agg(['count', 'mean'])\n",
    "\n",
    "beer_stats = beer_stats.T\n",
    "beer_stats = beer_stats.reset_index()\n",
    "beer_stats.columns =['beer', 'count', 'average']\n",
    "\n",
    "C = beer_stats['count'].mean()\n",
    "m = beer_stats['average'].mean()\n",
    "\n",
    "def bayesian_avg(rating):\n",
    "    bayesian_avg = (C*m+rating.sum())/(C+rating.count())\n",
    "    return bayesian_avg"
   ]
  },
  {
   "cell_type": "code",
   "execution_count": 8,
   "metadata": {},
   "outputs": [
    {
     "data": {
      "text/html": [
       "<div>\n",
       "<style scoped>\n",
       "    .dataframe tbody tr th:only-of-type {\n",
       "        vertical-align: middle;\n",
       "    }\n",
       "\n",
       "    .dataframe tbody tr th {\n",
       "        vertical-align: top;\n",
       "    }\n",
       "\n",
       "    .dataframe thead th {\n",
       "        text-align: right;\n",
       "    }\n",
       "</style>\n",
       "<table border=\"1\" class=\"dataframe\">\n",
       "  <thead>\n",
       "    <tr style=\"text-align: right;\">\n",
       "      <th></th>\n",
       "      <th>beer</th>\n",
       "      <th>count</th>\n",
       "      <th>average</th>\n",
       "      <th>bayesian_avg</th>\n",
       "    </tr>\n",
       "  </thead>\n",
       "  <tbody>\n",
       "    <tr>\n",
       "      <th>220</th>\n",
       "      <td>High Road Brewing: Bronan</td>\n",
       "      <td>13.0</td>\n",
       "      <td>8.846154</td>\n",
       "      <td>7.834045</td>\n",
       "    </tr>\n",
       "    <tr>\n",
       "      <th>19</th>\n",
       "      <td>Bellwoods Brewery: Jelly King</td>\n",
       "      <td>74.0</td>\n",
       "      <td>7.797297</td>\n",
       "      <td>7.640132</td>\n",
       "    </tr>\n",
       "    <tr>\n",
       "      <th>34</th>\n",
       "      <td>High Road Brewing: Cloud Piercer</td>\n",
       "      <td>12.0</td>\n",
       "      <td>8.500000</td>\n",
       "      <td>7.574132</td>\n",
       "    </tr>\n",
       "    <tr>\n",
       "      <th>77</th>\n",
       "      <td>Bellwoods Brewery: Jelly King - Pink Guava</td>\n",
       "      <td>12.0</td>\n",
       "      <td>8.333333</td>\n",
       "      <td>7.473507</td>\n",
       "    </tr>\n",
       "    <tr>\n",
       "      <th>29</th>\n",
       "      <td>Brewery Ommegang: Ommegang Pale Sour</td>\n",
       "      <td>14.0</td>\n",
       "      <td>7.785714</td>\n",
       "      <td>7.201653</td>\n",
       "    </tr>\n",
       "  </tbody>\n",
       "</table>\n",
       "</div>"
      ],
      "text/plain": [
       "                                           beer  count   average  bayesian_avg\n",
       "220                   High Road Brewing: Bronan   13.0  8.846154      7.834045\n",
       "19                Bellwoods Brewery: Jelly King   74.0  7.797297      7.640132\n",
       "34             High Road Brewing: Cloud Piercer   12.0  8.500000      7.574132\n",
       "77   Bellwoods Brewery: Jelly King - Pink Guava   12.0  8.333333      7.473507\n",
       "29         Brewery Ommegang: Ommegang Pale Sour   14.0  7.785714      7.201653"
      ]
     },
     "execution_count": 8,
     "metadata": {},
     "output_type": "execute_result"
    }
   ],
   "source": [
    "bayesian_avg_ratings = user_df.agg(bayesian_avg).reset_index()\n",
    "bayesian_avg_ratings.columns = ['beer', 'bayesian_avg']\n",
    "beer_stats = beer_stats.merge(bayesian_avg_ratings, on='beer')\n",
    "beer_stats = beer_stats.sort_values(by='bayesian_avg', ascending=False)\n",
    "\n",
    "top_five_beers = beer_stats.head(5)\n",
    "top_five_beers"
   ]
  },
  {
   "cell_type": "markdown",
   "metadata": {},
   "source": [
    "These beers have the highest Bayesian average. Although this is clearly a bias from the fact that 12 of the 15 people who rated the entire beer list work at Trinity Common. I've only ever seen Cloud Piercer on tap at TC, and Bronan is very rare in Toronto (and exists at TC as a permanent tap).\n"
   ]
  },
  {
   "cell_type": "code",
   "execution_count": 9,
   "metadata": {},
   "outputs": [
    {
     "data": {
      "text/html": [
       "<div>\n",
       "<style scoped>\n",
       "    .dataframe tbody tr th:only-of-type {\n",
       "        vertical-align: middle;\n",
       "    }\n",
       "\n",
       "    .dataframe tbody tr th {\n",
       "        vertical-align: top;\n",
       "    }\n",
       "\n",
       "    .dataframe thead th {\n",
       "        text-align: right;\n",
       "    }\n",
       "</style>\n",
       "<table border=\"1\" class=\"dataframe\">\n",
       "  <thead>\n",
       "    <tr style=\"text-align: right;\">\n",
       "      <th></th>\n",
       "      <th>beer</th>\n",
       "      <th>count</th>\n",
       "      <th>average</th>\n",
       "      <th>bayesian_avg</th>\n",
       "    </tr>\n",
       "  </thead>\n",
       "  <tbody>\n",
       "    <tr>\n",
       "      <th>4</th>\n",
       "      <td>Heineken: Heineken Lager</td>\n",
       "      <td>99.0</td>\n",
       "      <td>4.202020</td>\n",
       "      <td>4.346557</td>\n",
       "    </tr>\n",
       "    <tr>\n",
       "      <th>308</th>\n",
       "      <td>Sleeman Breweries Ltd.: Honey Brown Lager</td>\n",
       "      <td>10.0</td>\n",
       "      <td>2.900000</td>\n",
       "      <td>4.337805</td>\n",
       "    </tr>\n",
       "    <tr>\n",
       "      <th>7</th>\n",
       "      <td>Alexander Keiths: Red Amber Ale</td>\n",
       "      <td>86.0</td>\n",
       "      <td>3.930233</td>\n",
       "      <td>4.117587</td>\n",
       "    </tr>\n",
       "    <tr>\n",
       "      <th>283</th>\n",
       "      <td>Molson Breweries of Canada: Canadian Light</td>\n",
       "      <td>6.0</td>\n",
       "      <td>1.000000</td>\n",
       "      <td>3.930708</td>\n",
       "    </tr>\n",
       "    <tr>\n",
       "      <th>2</th>\n",
       "      <td>Coors Brewing Company: Coors Light</td>\n",
       "      <td>95.0</td>\n",
       "      <td>2.968421</td>\n",
       "      <td>3.213017</td>\n",
       "    </tr>\n",
       "  </tbody>\n",
       "</table>\n",
       "</div>"
      ],
      "text/plain": [
       "                                           beer  count   average  bayesian_avg\n",
       "4                      Heineken: Heineken Lager   99.0  4.202020      4.346557\n",
       "308   Sleeman Breweries Ltd.: Honey Brown Lager   10.0  2.900000      4.337805\n",
       "7               Alexander Keiths: Red Amber Ale   86.0  3.930233      4.117587\n",
       "283  Molson Breweries of Canada: Canadian Light    6.0  1.000000      3.930708\n",
       "2            Coors Brewing Company: Coors Light   95.0  2.968421      3.213017"
      ]
     },
     "execution_count": 9,
     "metadata": {},
     "output_type": "execute_result"
    }
   ],
   "source": [
    "lowest_ranking_beers = beer_stats.tail(5)\n",
    "lowest_ranking_beers\n",
    "#Probably a bias of the unusually high hipster quotient."
   ]
  },
  {
   "cell_type": "code",
   "execution_count": 10,
   "metadata": {},
   "outputs": [
    {
     "data": {
      "text/plain": [
       "(101, 338)"
      ]
     },
     "execution_count": 10,
     "metadata": {},
     "output_type": "execute_result"
    }
   ],
   "source": [
    "user_df = user_df.drop(columns=['Clifford Brewing Co.: Clifford Porter.1']) ##dropping duplicate\n",
    "user_df = user_df.reset_index().rename(columns={'index': 'user'})\n",
    "user_df.shape"
   ]
  },
  {
   "cell_type": "code",
   "execution_count": null,
   "metadata": {},
   "outputs": [],
   "source": [
    "user_df.to_csv('processed_dataframe_not_melt.csv') #Saving a copy "
   ]
  },
  {
   "cell_type": "code",
   "execution_count": 11,
   "metadata": {},
   "outputs": [
    {
     "data": {
      "text/html": [
       "<div>\n",
       "<style scoped>\n",
       "    .dataframe tbody tr th:only-of-type {\n",
       "        vertical-align: middle;\n",
       "    }\n",
       "\n",
       "    .dataframe tbody tr th {\n",
       "        vertical-align: top;\n",
       "    }\n",
       "\n",
       "    .dataframe thead th {\n",
       "        text-align: right;\n",
       "    }\n",
       "</style>\n",
       "<table border=\"1\" class=\"dataframe\">\n",
       "  <thead>\n",
       "    <tr style=\"text-align: right;\">\n",
       "      <th></th>\n",
       "      <th>user</th>\n",
       "      <th>beer</th>\n",
       "      <th>rating</th>\n",
       "    </tr>\n",
       "  </thead>\n",
       "  <tbody>\n",
       "    <tr>\n",
       "      <th>29806</th>\n",
       "      <td>ANDREW</td>\n",
       "      <td>Nickel Brook Brewing Company: Head Stock</td>\n",
       "      <td>7.0</td>\n",
       "    </tr>\n",
       "    <tr>\n",
       "      <th>28897</th>\n",
       "      <td>ANDREW</td>\n",
       "      <td>Muskoka Brewery: Muskoka Harvest Ale</td>\n",
       "      <td>5.0</td>\n",
       "    </tr>\n",
       "  </tbody>\n",
       "</table>\n",
       "</div>"
      ],
      "text/plain": [
       "         user                                      beer  rating\n",
       "29806  ANDREW  Nickel Brook Brewing Company: Head Stock     7.0\n",
       "28897  ANDREW      Muskoka Brewery: Muskoka Harvest Ale     5.0"
      ]
     },
     "execution_count": 11,
     "metadata": {},
     "output_type": "execute_result"
    }
   ],
   "source": [
    "#Melting\n",
    "new_df = pd.melt(user_df, id_vars='user', var_name='beer', value_name='rating')\n",
    "\n",
    "new_df = new_df.sort_values('user')\n",
    "\n",
    "new_df = new_df.dropna()\n",
    "\n",
    "new_df.shape\n",
    "new_df.head(2)"
   ]
  },
  {
   "cell_type": "code",
   "execution_count": null,
   "metadata": {},
   "outputs": [],
   "source": [
    "new_df.to_csv('processed_dataframe.csv') #Saving a copy of melted format"
   ]
  },
  {
   "cell_type": "code",
   "execution_count": 12,
   "metadata": {},
   "outputs": [
    {
     "data": {
      "text/html": [
       "<div>\n",
       "<style scoped>\n",
       "    .dataframe tbody tr th:only-of-type {\n",
       "        vertical-align: middle;\n",
       "    }\n",
       "\n",
       "    .dataframe tbody tr th {\n",
       "        vertical-align: top;\n",
       "    }\n",
       "\n",
       "    .dataframe thead th {\n",
       "        text-align: right;\n",
       "    }\n",
       "</style>\n",
       "<table border=\"1\" class=\"dataframe\">\n",
       "  <thead>\n",
       "    <tr style=\"text-align: right;\">\n",
       "      <th></th>\n",
       "      <th>user</th>\n",
       "      <th>beer</th>\n",
       "      <th>rating</th>\n",
       "    </tr>\n",
       "  </thead>\n",
       "  <tbody>\n",
       "    <tr>\n",
       "      <th>29806</th>\n",
       "      <td>ANDREW</td>\n",
       "      <td>Nickel Brook Brewing Company: Head Stock</td>\n",
       "      <td>7.0</td>\n",
       "    </tr>\n",
       "    <tr>\n",
       "      <th>28897</th>\n",
       "      <td>ANDREW</td>\n",
       "      <td>Muskoka Brewery: Muskoka Harvest Ale</td>\n",
       "      <td>5.0</td>\n",
       "    </tr>\n",
       "  </tbody>\n",
       "</table>\n",
       "</div>"
      ],
      "text/plain": [
       "         user                                      beer  rating\n",
       "29806  ANDREW  Nickel Brook Brewing Company: Head Stock     7.0\n",
       "28897  ANDREW      Muskoka Brewery: Muskoka Harvest Ale     5.0"
      ]
     },
     "execution_count": 12,
     "metadata": {},
     "output_type": "execute_result"
    }
   ],
   "source": [
    "new_df.head(2)"
   ]
  },
  {
   "cell_type": "code",
   "execution_count": 13,
   "metadata": {},
   "outputs": [
    {
     "data": {
      "text/html": [
       "<div>\n",
       "<style scoped>\n",
       "    .dataframe tbody tr th:only-of-type {\n",
       "        vertical-align: middle;\n",
       "    }\n",
       "\n",
       "    .dataframe tbody tr th {\n",
       "        vertical-align: top;\n",
       "    }\n",
       "\n",
       "    .dataframe thead th {\n",
       "        text-align: right;\n",
       "    }\n",
       "</style>\n",
       "<table border=\"1\" class=\"dataframe\">\n",
       "  <thead>\n",
       "    <tr style=\"text-align: right;\">\n",
       "      <th></th>\n",
       "      <th>user</th>\n",
       "      <th>Beau's All Natural Brewing Company: Beau's Lugtread</th>\n",
       "      <th>Grupo Modelo: Corona</th>\n",
       "      <th>Coors Brewing Company: Coors Light</th>\n",
       "      <th>Sawdust City Brewing Co.: Little Norway</th>\n",
       "      <th>Heineken: Heineken Lager</th>\n",
       "      <th>Creemore Spring Brewery: Creemore Springs Premium Lager</th>\n",
       "      <th>Mill Street Brewery: 100th Meridian</th>\n",
       "      <th>Alexander Keiths: Red Amber Ale</th>\n",
       "      <th>Clifford Brewing Co.: Clifford Porter</th>\n",
       "      <th>...</th>\n",
       "      <th>Unibroue: Don De Dieu</th>\n",
       "      <th>Unibroue: Blonde de Chambly</th>\n",
       "      <th>Unibroue: À Tout Le Monde</th>\n",
       "      <th>Unibroue: A Tout Le Monde - Megadeth</th>\n",
       "      <th>Wellington Brewery: Helles Bock</th>\n",
       "      <th>Wellington Brewery: Iron Duke</th>\n",
       "      <th>Wellington Brewery: Bewitched Belgian</th>\n",
       "      <th>À la Fût: Hopfenweisse</th>\n",
       "      <th>À la Fût: Cuvée Houblonée I</th>\n",
       "      <th>À la Fût: À La Belge Triple</th>\n",
       "    </tr>\n",
       "  </thead>\n",
       "  <tbody>\n",
       "    <tr>\n",
       "      <th>0</th>\n",
       "      <td>DEE</td>\n",
       "      <td>2.0</td>\n",
       "      <td>1.0</td>\n",
       "      <td>1.0</td>\n",
       "      <td>6.0</td>\n",
       "      <td>1.0</td>\n",
       "      <td>1.0</td>\n",
       "      <td>1.0</td>\n",
       "      <td>1.0</td>\n",
       "      <td>NaN</td>\n",
       "      <td>...</td>\n",
       "      <td>7.0</td>\n",
       "      <td>7.0</td>\n",
       "      <td>8.0</td>\n",
       "      <td>8.0</td>\n",
       "      <td>8.0</td>\n",
       "      <td>7.0</td>\n",
       "      <td>8.0</td>\n",
       "      <td>NaN</td>\n",
       "      <td>NaN</td>\n",
       "      <td>NaN</td>\n",
       "    </tr>\n",
       "    <tr>\n",
       "      <th>1</th>\n",
       "      <td>DON</td>\n",
       "      <td>4.0</td>\n",
       "      <td>5.0</td>\n",
       "      <td>3.0</td>\n",
       "      <td>5.0</td>\n",
       "      <td>2.0</td>\n",
       "      <td>NaN</td>\n",
       "      <td>4.0</td>\n",
       "      <td>1.0</td>\n",
       "      <td>6.0</td>\n",
       "      <td>...</td>\n",
       "      <td>NaN</td>\n",
       "      <td>NaN</td>\n",
       "      <td>NaN</td>\n",
       "      <td>6.0</td>\n",
       "      <td>NaN</td>\n",
       "      <td>NaN</td>\n",
       "      <td>NaN</td>\n",
       "      <td>NaN</td>\n",
       "      <td>NaN</td>\n",
       "      <td>7.0</td>\n",
       "    </tr>\n",
       "  </tbody>\n",
       "</table>\n",
       "<p>2 rows × 338 columns</p>\n",
       "</div>"
      ],
      "text/plain": [
       "  user  Beau's All Natural Brewing Company: Beau's Lugtread  \\\n",
       "0  DEE                                                2.0     \n",
       "1  DON                                                4.0     \n",
       "\n",
       "   Grupo Modelo: Corona  Coors Brewing Company: Coors Light  \\\n",
       "0                   1.0                                 1.0   \n",
       "1                   5.0                                 3.0   \n",
       "\n",
       "   Sawdust City Brewing Co.: Little Norway  Heineken: Heineken Lager  \\\n",
       "0                                      6.0                       1.0   \n",
       "1                                      5.0                       2.0   \n",
       "\n",
       "   Creemore Spring Brewery: Creemore Springs Premium Lager  \\\n",
       "0                                                1.0         \n",
       "1                                                NaN         \n",
       "\n",
       "   Mill Street Brewery: 100th Meridian  Alexander Keiths: Red Amber Ale  \\\n",
       "0                                  1.0                              1.0   \n",
       "1                                  4.0                              1.0   \n",
       "\n",
       "   Clifford Brewing Co.: Clifford Porter  ...  Unibroue: Don De Dieu  \\\n",
       "0                                    NaN  ...                    7.0   \n",
       "1                                    6.0  ...                    NaN   \n",
       "\n",
       "   Unibroue: Blonde de Chambly  Unibroue: À Tout Le Monde  \\\n",
       "0                          7.0                        8.0   \n",
       "1                          NaN                        NaN   \n",
       "\n",
       "   Unibroue: A Tout Le Monde - Megadeth  Wellington Brewery: Helles Bock  \\\n",
       "0                                   8.0                              8.0   \n",
       "1                                   6.0                              NaN   \n",
       "\n",
       "   Wellington Brewery: Iron Duke  Wellington Brewery: Bewitched Belgian  \\\n",
       "0                            7.0                                    8.0   \n",
       "1                            NaN                                    NaN   \n",
       "\n",
       "   À la Fût: Hopfenweisse  À la Fût: Cuvée Houblonée I  \\\n",
       "0                     NaN                          NaN   \n",
       "1                     NaN                          NaN   \n",
       "\n",
       "   À la Fût: À La Belge Triple  \n",
       "0                          NaN  \n",
       "1                          7.0  \n",
       "\n",
       "[2 rows x 338 columns]"
      ]
     },
     "execution_count": 13,
     "metadata": {},
     "output_type": "execute_result"
    }
   ],
   "source": [
    "user_df.head(2)"
   ]
  },
  {
   "cell_type": "code",
   "execution_count": 14,
   "metadata": {},
   "outputs": [
    {
     "name": "stdout",
     "output_type": "stream",
     "text": [
      "(337, 2)\n"
     ]
    },
    {
     "data": {
      "text/html": [
       "<div>\n",
       "<style scoped>\n",
       "    .dataframe tbody tr th:only-of-type {\n",
       "        vertical-align: middle;\n",
       "    }\n",
       "\n",
       "    .dataframe tbody tr th {\n",
       "        vertical-align: top;\n",
       "    }\n",
       "\n",
       "    .dataframe thead th {\n",
       "        text-align: right;\n",
       "    }\n",
       "</style>\n",
       "<table border=\"1\" class=\"dataframe\">\n",
       "  <thead>\n",
       "    <tr style=\"text-align: right;\">\n",
       "      <th></th>\n",
       "      <th>beer</th>\n",
       "      <th>0</th>\n",
       "    </tr>\n",
       "  </thead>\n",
       "  <tbody>\n",
       "    <tr>\n",
       "      <th>0</th>\n",
       "      <td>Beau's All Natural Brewing Company: Beau's Lug...</td>\n",
       "      <td>2.0</td>\n",
       "    </tr>\n",
       "    <tr>\n",
       "      <th>1</th>\n",
       "      <td>Grupo Modelo: Corona</td>\n",
       "      <td>1.0</td>\n",
       "    </tr>\n",
       "  </tbody>\n",
       "</table>\n",
       "</div>"
      ],
      "text/plain": [
       "                                                beer    0\n",
       "0  Beau's All Natural Brewing Company: Beau's Lug...  2.0\n",
       "1                               Grupo Modelo: Corona  1.0"
      ]
     },
     "execution_count": 14,
     "metadata": {},
     "output_type": "execute_result"
    }
   ],
   "source": [
    "#Prepping a styles df\n",
    "beers = pd.read_csv('data/processed_dataframe_not_melt.csv', index_col=0)\n",
    "\n",
    "beers = beers.drop(columns='user')\n",
    "\n",
    "beers = beers.T\n",
    "beers = beers.reset_index()\n",
    "\n",
    "beers = beers.rename(columns = {'index': 'beer'})\n",
    "\n",
    "beers = beers[['beer', 0]]\n",
    "\n",
    "print(beers.shape)\n",
    "\n",
    "beers.head(2)"
   ]
  },
  {
   "cell_type": "code",
   "execution_count": 15,
   "metadata": {},
   "outputs": [
    {
     "data": {
      "text/html": [
       "<div>\n",
       "<style scoped>\n",
       "    .dataframe tbody tr th:only-of-type {\n",
       "        vertical-align: middle;\n",
       "    }\n",
       "\n",
       "    .dataframe tbody tr th {\n",
       "        vertical-align: top;\n",
       "    }\n",
       "\n",
       "    .dataframe thead th {\n",
       "        text-align: right;\n",
       "    }\n",
       "</style>\n",
       "<table border=\"1\" class=\"dataframe\">\n",
       "  <thead>\n",
       "    <tr style=\"text-align: right;\">\n",
       "      <th></th>\n",
       "      <th>beer</th>\n",
       "      <th>style_name</th>\n",
       "      <th>abv</th>\n",
       "    </tr>\n",
       "  </thead>\n",
       "  <tbody>\n",
       "    <tr>\n",
       "      <th>0</th>\n",
       "      <td>Beau's All Natural Brewing Company: Beau's Lug...</td>\n",
       "      <td>Kolsch</td>\n",
       "      <td>5</td>\n",
       "    </tr>\n",
       "    <tr>\n",
       "      <th>1</th>\n",
       "      <td>Grupo Modelo: Corona</td>\n",
       "      <td>American Light Lager</td>\n",
       "      <td>4.5</td>\n",
       "    </tr>\n",
       "  </tbody>\n",
       "</table>\n",
       "</div>"
      ],
      "text/plain": [
       "                                                beer            style_name  \\\n",
       "0  Beau's All Natural Brewing Company: Beau's Lug...                Kolsch   \n",
       "1                               Grupo Modelo: Corona  American Light Lager   \n",
       "\n",
       "   abv  \n",
       "0    5  \n",
       "1  4.5  "
      ]
     },
     "execution_count": 15,
     "metadata": {},
     "output_type": "execute_result"
    }
   ],
   "source": [
    "og_beer = pd.read_csv('data/final_beer_df.csv', index_col=0)\n",
    "og_beer['beer'] = og_beer['brewery'].map(str) + \": \" + og_beer['name']\n",
    "og_beer = og_beer[['beer', 'style_name', 'abv']]\n",
    "og_beer.head(2)"
   ]
  },
  {
   "cell_type": "code",
   "execution_count": 16,
   "metadata": {},
   "outputs": [
    {
     "data": {
      "text/plain": [
       "158"
      ]
     },
     "execution_count": 16,
     "metadata": {},
     "output_type": "execute_result"
    }
   ],
   "source": [
    "og_beer['abv'] = pd.to_numeric(og_beer.abv, errors='coerce') #Fixing ABV incase I want to use it in the future\n",
    "len(og_beer['style_name'].unique())"
   ]
  },
  {
   "cell_type": "code",
   "execution_count": 17,
   "metadata": {},
   "outputs": [
    {
     "name": "stdout",
     "output_type": "stream",
     "text": [
      "(630, 3)\n",
      "['Kolsch' 'American Light Lager' 'American Premium Lager'\n",
      " 'American Imperial Stout' 'Flanders Red' 'Belgian Strong Ale'\n",
      " 'Hefeweisen' 'APA' 'Pale Lager' 'Oatmean Stout' 'Imperial Stout'\n",
      " 'West Coast IPA' 'Hazy Pale Ale' 'New England IPA' 'Stout' 'Beligan Wit'\n",
      " 'American Lager' 'Amber' 'Lager' 'Pilsener' 'Pale Sour' 'Oatmeal Stout'\n",
      " 'Pale Ale' 'IPA' 'New Zealand Pale Ale' 'Scottish-Style Light Ale'\n",
      " 'American-Style Barley Wine Ale' 'American-Style Lager'\n",
      " 'American-Style Stout' 'German-Style Pilsener'\n",
      " ' Company American Imperial Stout ' ' Company American Imperial IPA '\n",
      " ' Company Russian Imperial Stout ' 'French & Belgian-Style Saison'\n",
      " 'American-Style India Pale Ale' 'English-Style Brown Ale'\n",
      " 'Golden or Blonde Ale' 'Fresh \"Wet\" Hop Ale' 'Fruit Beer'\n",
      " 'American-Style Amber/Red Ale' 'Open Category Mead'\n",
      " ' Company American Black Ale ' ' Company Baltic Porter '\n",
      " 'Rye Ale or Lager with or without Yeast' 'Scottish-Style Heavy Ale'\n",
      " 'Strong Ale' 'German-Style Altbier' 'Contemporary Gose'\n",
      " 'Belgian-Style White (or Wit) / Belgian-Style Wheat'\n",
      " 'Belgian-Style Dubbel' 'Brown Porter' 'English-Style Pale Mild Ale'\n",
      " 'Wood- and Barrel-Aged Beer' 'Herb and Spice Beer' ' Baltic Porter '\n",
      " 'American-Style Imperial Stout' ' American Pale Ale (A PA) '\n",
      " ' American Imperial Stout ' 'Imperial or Double India Pale Ale'\n",
      " ' Belgian Saison ' 'American-Style Imperial Porter' ' American IPA '\n",
      " ' American Wild Ale ' ' American Imperial Porter '\n",
      " ' Belgian Quadrupel (Quad) ' ' American Black Ale '\n",
      " ' American Imperial IPA ' ' Russian Imperial Stout '\n",
      " 'Belgian-Style Tripel' 'American-Style Black Ale'\n",
      " 'Session India Pale Ale' ' Company American IPA '\n",
      " ' Company Belgian Saison ' 'Ordinary Bitter' ' Co.American Imperial IPA '\n",
      " 'Wild Beer' 'American-Style Pilsener' 'Scotch Ale'\n",
      " 'Bohemian-Style Pilsener' 'Smoke Beer (Lager or Ale)'\n",
      " 'Belgian-Style Pale Strong Ale' 'Belgian-Style Blonde Ale'\n",
      " 'Sweet or Cream Stout' 'British-Style Imperial Stout'\n",
      " 'Berliner-Style Weisse (Wheat)' 'Belgian-Style Pale Ale'\n",
      " 'Belgian-Style Table Beer' 'British-Style Barley Wine Ale'\n",
      " 'Foreign (Export)-Style Stout' 'German-Style Doppelbock'\n",
      " 'Specialty Stouts' 'Belgian-Style Flanders Oud Bruin or Oud Red Ales'\n",
      " 'Fruit Wheat Ale or Lager with or without Yeast'\n",
      " 'French-Style Bière de Garde' 'Belgian-Style Dark Strong Ale'\n",
      " 'Other Belgian-Style Ales' 'American-Style Pale Ale'\n",
      " 'Belgian-Style Quadrupel' 'English Cider' 'American-Style Sour Ale'\n",
      " 'Specialty Beer' 'Dortmunder / European-Style Export' 'Smoke Porter'\n",
      " 'American-Style Dark Lager' 'Coffee-Flavored Beer'\n",
      " 'South German-Style Weizenbock / Weissbock' 'American-Style Brown Ale'\n",
      " 'Classic Irish-Style Dry Stout' 'Vienna-Style Lager'\n",
      " 'German-Style Märzen' 'Classic English-Style Pale Ale'\n",
      " 'German-Style Schwarzbier' 'Extra Special Bitter'\n",
      " 'American-Style Cream Ale or Lager' ' Co.Rye Beer '\n",
      " ' Co.American Barleywine ' 'Common Cider' ' Co.American Porter '\n",
      " ' English Porter ' ' New England IPA ' 'Irish-Style Red Ale'\n",
      " 'German-Style Kölsch / Köln-Style Kölsch' 'Traditional German-Style Bock'\n",
      " 'American-Style Premium Lager' ' Co.American IPA '\n",
      " 'English-Style India Pale Ale' ' Pumpkin Beer '\n",
      " ' English Sweet / Milk Stout ' 'Gluten-Free Beer'\n",
      " 'South German-Style Hefeweizen / Hefeweissbier'\n",
      " 'Pale American-Belgo-Style Ale' ' American Porter '\n",
      " 'American-Style Amber Lager' ' Company Flanders Red Ale ' 'Brett Beer'\n",
      " 'Münchner (Munich)-Style Helles'\n",
      " 'Light American Wheat Ale or Lager with Yeast'\n",
      " 'Light American Wheat Ale or Lager without Yeast'\n",
      " 'Juicy or Hazy India Pale Ale' 'American-Style Strong Pale Ale'\n",
      " 'Session Beer' 'English-Style Dark Mild Ale'\n",
      " 'American-Style Light (Low Calorie) Lager' 'Scottish-Style Export Ale'\n",
      " 'Special Bitter or Best Bitter' ' Co.Russian Imperial Stout '\n",
      " ' Co.New England IPA ' ' Co.American Imperial Stout '\n",
      " ' Co.Berliner Weisse ' ' Co.Herb and Spice Beer ' 'Dry Lager'\n",
      " 'Specialty Honey Lager or Ale' 'American-Style Märzen / Oktoberfest'\n",
      " 'Non-Alcoholic (Beer) Malt Beverages'\n",
      " 'American-Style Low-Carbohydrate Light Lager' 'Metheglin'\n",
      " 'Belgian-style Fruit Beer' 'German-Style Heller Bock/Maibock']\n"
     ]
    },
    {
     "data": {
      "text/html": [
       "<div>\n",
       "<style scoped>\n",
       "    .dataframe tbody tr th:only-of-type {\n",
       "        vertical-align: middle;\n",
       "    }\n",
       "\n",
       "    .dataframe tbody tr th {\n",
       "        vertical-align: top;\n",
       "    }\n",
       "\n",
       "    .dataframe thead th {\n",
       "        text-align: right;\n",
       "    }\n",
       "</style>\n",
       "<table border=\"1\" class=\"dataframe\">\n",
       "  <thead>\n",
       "    <tr style=\"text-align: right;\">\n",
       "      <th></th>\n",
       "      <th>beer</th>\n",
       "      <th>style_name</th>\n",
       "      <th>abv</th>\n",
       "    </tr>\n",
       "  </thead>\n",
       "  <tbody>\n",
       "    <tr>\n",
       "      <th>0</th>\n",
       "      <td>Beau's All Natural Brewing Company: Beau's Lug...</td>\n",
       "      <td>Kolsch</td>\n",
       "      <td>5.0</td>\n",
       "    </tr>\n",
       "    <tr>\n",
       "      <th>1</th>\n",
       "      <td>Grupo Modelo: Corona</td>\n",
       "      <td>American Light Lager</td>\n",
       "      <td>4.5</td>\n",
       "    </tr>\n",
       "  </tbody>\n",
       "</table>\n",
       "</div>"
      ],
      "text/plain": [
       "                                                beer            style_name  \\\n",
       "0  Beau's All Natural Brewing Company: Beau's Lug...                Kolsch   \n",
       "1                               Grupo Modelo: Corona  American Light Lager   \n",
       "\n",
       "   abv  \n",
       "0  5.0  \n",
       "1  4.5  "
      ]
     },
     "execution_count": 17,
     "metadata": {},
     "output_type": "execute_result"
    }
   ],
   "source": [
    "print(og_beer.shape)\n",
    "print(og_beer.style_name.unique())\n",
    "og_beer.head(2)"
   ]
  },
  {
   "cell_type": "code",
   "execution_count": 18,
   "metadata": {},
   "outputs": [
    {
     "name": "stderr",
     "output_type": "stream",
     "text": [
      "/Users/kristigourlay/anaconda3/lib/python3.7/site-packages/ipykernel_launcher.py:3: SettingWithCopyWarning: \n",
      "A value is trying to be set on a copy of a slice from a DataFrame\n",
      "\n",
      "See the caveats in the documentation: https://pandas.pydata.org/pandas-docs/stable/user_guide/indexing.html#returning-a-view-versus-a-copy\n",
      "  This is separate from the ipykernel package so we can avoid doing imports until\n"
     ]
    }
   ],
   "source": [
    "#Fixing a wrong spelling\n",
    "og_beer['beer'][14]\n",
    "og_beer['beer'][14] = 'Sawdust City Brewing Co.: Gateway Kolsch'"
   ]
  },
  {
   "cell_type": "code",
   "execution_count": 19,
   "metadata": {},
   "outputs": [
    {
     "data": {
      "text/html": [
       "<div>\n",
       "<style scoped>\n",
       "    .dataframe tbody tr th:only-of-type {\n",
       "        vertical-align: middle;\n",
       "    }\n",
       "\n",
       "    .dataframe tbody tr th {\n",
       "        vertical-align: top;\n",
       "    }\n",
       "\n",
       "    .dataframe thead th {\n",
       "        text-align: right;\n",
       "    }\n",
       "</style>\n",
       "<table border=\"1\" class=\"dataframe\">\n",
       "  <thead>\n",
       "    <tr style=\"text-align: right;\">\n",
       "      <th></th>\n",
       "      <th>beer</th>\n",
       "      <th>style_name</th>\n",
       "    </tr>\n",
       "  </thead>\n",
       "  <tbody>\n",
       "    <tr>\n",
       "      <th>0</th>\n",
       "      <td>Beau's All Natural Brewing Company: Beau's Lug...</td>\n",
       "      <td>Kolsch</td>\n",
       "    </tr>\n",
       "    <tr>\n",
       "      <th>1</th>\n",
       "      <td>Grupo Modelo: Corona</td>\n",
       "      <td>American Light Lager</td>\n",
       "    </tr>\n",
       "  </tbody>\n",
       "</table>\n",
       "</div>"
      ],
      "text/plain": [
       "                                                beer            style_name\n",
       "0  Beau's All Natural Brewing Company: Beau's Lug...                Kolsch\n",
       "1                               Grupo Modelo: Corona  American Light Lager"
      ]
     },
     "execution_count": 19,
     "metadata": {},
     "output_type": "execute_result"
    }
   ],
   "source": [
    "beer_df = og_beer.merge(beers, on='beer') #merging the two dfs to create a 'styles df'.\n",
    "beer_df = beer_df.drop(columns=['abv', 0,])\n",
    "beer_df.head(2)"
   ]
  },
  {
   "cell_type": "code",
   "execution_count": 21,
   "metadata": {},
   "outputs": [
    {
     "data": {
      "text/html": [
       "<div>\n",
       "<style scoped>\n",
       "    .dataframe tbody tr th:only-of-type {\n",
       "        vertical-align: middle;\n",
       "    }\n",
       "\n",
       "    .dataframe tbody tr th {\n",
       "        vertical-align: top;\n",
       "    }\n",
       "\n",
       "    .dataframe thead th {\n",
       "        text-align: right;\n",
       "    }\n",
       "</style>\n",
       "<table border=\"1\" class=\"dataframe\">\n",
       "  <thead>\n",
       "    <tr style=\"text-align: right;\">\n",
       "      <th></th>\n",
       "      <th>beer</th>\n",
       "      <th>style_name</th>\n",
       "    </tr>\n",
       "  </thead>\n",
       "  <tbody>\n",
       "    <tr>\n",
       "      <th>0</th>\n",
       "      <td>Beau's All Natural Brewing Company: Beau's Lug...</td>\n",
       "      <td>kolsch</td>\n",
       "    </tr>\n",
       "    <tr>\n",
       "      <th>1</th>\n",
       "      <td>Grupo Modelo: Corona</td>\n",
       "      <td>american light lager</td>\n",
       "    </tr>\n",
       "  </tbody>\n",
       "</table>\n",
       "</div>"
      ],
      "text/plain": [
       "                                                beer            style_name\n",
       "0  Beau's All Natural Brewing Company: Beau's Lug...                kolsch\n",
       "1                               Grupo Modelo: Corona  american light lager"
      ]
     },
     "execution_count": 21,
     "metadata": {},
     "output_type": "execute_result"
    }
   ],
   "source": [
    "style_names = beer_df['style_name'].tolist()\n",
    "\n",
    "style_names = [x.lower() for x in style_names]\n",
    "beer_df['style_name'] = style_names\n",
    "beer_df.head(2)"
   ]
  },
  {
   "cell_type": "code",
   "execution_count": 53,
   "metadata": {},
   "outputs": [],
   "source": [
    "beer_dict = dict({'kolsch|kölsch': 'kolsch', \n",
    "                  'wheat|wit|weiss|hefeweisen': 'wheat',\n",
    "                 'pilsner|pilsener': 'pilsner',\n",
    "                  'cider': 'cider',\n",
    "                  'imperial stout': 'imperial st',\n",
    "                  'stout|american-style stout|milk stout|cream stout|oatmeal|oatmean|dry stout': 'stout',\n",
    "                  'lager': 'lager',\n",
    "                  'sour|flanders|wild|gose': 'sour',\n",
    "                 'ipa|hazy|hop': 'ipa',\n",
    "                  'fruit': 'fruit beer',\n",
    "                  'belgian': 'belgian',\n",
    "                  'mild|red|amber': 'red, amber',\n",
    "                  'pale|apa': 'pale ale',\n",
    "                  'bitter|brown|bock|porter': 'browns',\n",
    "                  'black': 'black ale',\n",
    "                  'scotch|rye|barrel': 'barrelaged',\n",
    "                  'german|märzen': 'germanic styles'\n",
    "                  \n",
    "                 })"
   ]
  },
  {
   "cell_type": "code",
   "execution_count": 54,
   "metadata": {},
   "outputs": [],
   "source": [
    "def beer_style_mapper(beer_dict):\n",
    "    for k, v in beer_dict.items():\n",
    "        beer_df.loc[beer_df.style_name.str.contains(k), \"style_name\"] = v\n",
    "    \n",
    "    return beer_df"
   ]
  },
  {
   "cell_type": "code",
   "execution_count": 55,
   "metadata": {},
   "outputs": [
    {
     "data": {
      "text/html": [
       "<div>\n",
       "<style scoped>\n",
       "    .dataframe tbody tr th:only-of-type {\n",
       "        vertical-align: middle;\n",
       "    }\n",
       "\n",
       "    .dataframe tbody tr th {\n",
       "        vertical-align: top;\n",
       "    }\n",
       "\n",
       "    .dataframe thead th {\n",
       "        text-align: right;\n",
       "    }\n",
       "</style>\n",
       "<table border=\"1\" class=\"dataframe\">\n",
       "  <thead>\n",
       "    <tr style=\"text-align: right;\">\n",
       "      <th></th>\n",
       "      <th>beer</th>\n",
       "      <th>style_name</th>\n",
       "    </tr>\n",
       "  </thead>\n",
       "  <tbody>\n",
       "    <tr>\n",
       "      <th>0</th>\n",
       "      <td>Beau's All Natural Brewing Company: Beau's Lug...</td>\n",
       "      <td>kolsch</td>\n",
       "    </tr>\n",
       "    <tr>\n",
       "      <th>1</th>\n",
       "      <td>Grupo Modelo: Corona</td>\n",
       "      <td>lager</td>\n",
       "    </tr>\n",
       "    <tr>\n",
       "      <th>2</th>\n",
       "      <td>Coors Brewing Company: Coors Light</td>\n",
       "      <td>lager</td>\n",
       "    </tr>\n",
       "    <tr>\n",
       "      <th>3</th>\n",
       "      <td>Heineken: Heineken Lager</td>\n",
       "      <td>lager</td>\n",
       "    </tr>\n",
       "    <tr>\n",
       "      <th>4</th>\n",
       "      <td>Brasserie Dieu De Ciel!: Peche Mortel</td>\n",
       "      <td>imperial st</td>\n",
       "    </tr>\n",
       "    <tr>\n",
       "      <th>...</th>\n",
       "      <td>...</td>\n",
       "      <td>...</td>\n",
       "    </tr>\n",
       "    <tr>\n",
       "      <th>333</th>\n",
       "      <td>Wellington Brewery: Iron Duke</td>\n",
       "      <td>strong ale</td>\n",
       "    </tr>\n",
       "    <tr>\n",
       "      <th>334</th>\n",
       "      <td>Wellington Brewery: Bewitched Belgian</td>\n",
       "      <td>strong ale</td>\n",
       "    </tr>\n",
       "    <tr>\n",
       "      <th>335</th>\n",
       "      <td>À la Fût: Hopfenweisse</td>\n",
       "      <td>wheat</td>\n",
       "    </tr>\n",
       "    <tr>\n",
       "      <th>336</th>\n",
       "      <td>À la Fût: Cuvée Houblonée I</td>\n",
       "      <td>pale ale</td>\n",
       "    </tr>\n",
       "    <tr>\n",
       "      <th>337</th>\n",
       "      <td>À la Fût: À La Belge Triple</td>\n",
       "      <td>belgian</td>\n",
       "    </tr>\n",
       "  </tbody>\n",
       "</table>\n",
       "<p>338 rows × 2 columns</p>\n",
       "</div>"
      ],
      "text/plain": [
       "                                                  beer   style_name\n",
       "0    Beau's All Natural Brewing Company: Beau's Lug...       kolsch\n",
       "1                                 Grupo Modelo: Corona        lager\n",
       "2                   Coors Brewing Company: Coors Light        lager\n",
       "3                             Heineken: Heineken Lager        lager\n",
       "4                Brasserie Dieu De Ciel!: Peche Mortel  imperial st\n",
       "..                                                 ...          ...\n",
       "333                      Wellington Brewery: Iron Duke   strong ale\n",
       "334              Wellington Brewery: Bewitched Belgian   strong ale\n",
       "335                             À la Fût: Hopfenweisse        wheat\n",
       "336                        À la Fût: Cuvée Houblonée I     pale ale\n",
       "337                        À la Fût: À La Belge Triple      belgian\n",
       "\n",
       "[338 rows x 2 columns]"
      ]
     },
     "execution_count": 55,
     "metadata": {},
     "output_type": "execute_result"
    }
   ],
   "source": [
    "beer_style_mapper(beer_dict)"
   ]
  },
  {
   "cell_type": "code",
   "execution_count": 56,
   "metadata": {},
   "outputs": [
    {
     "data": {
      "text/plain": [
       "(338, 2)"
      ]
     },
     "execution_count": 56,
     "metadata": {},
     "output_type": "execute_result"
    }
   ],
   "source": [
    "beer_df.shape"
   ]
  },
  {
   "cell_type": "code",
   "execution_count": 57,
   "metadata": {},
   "outputs": [],
   "source": [
    "beer_style_names_list = beer_df['style_name'].unique()"
   ]
  },
  {
   "cell_type": "code",
   "execution_count": null,
   "metadata": {},
   "outputs": [],
   "source": [
    "beer_df.to_csv('beer_style_names.csv')\n"
   ]
  }
 ],
 "metadata": {
  "kernelspec": {
   "display_name": "Python 3",
   "language": "python",
   "name": "python3"
  },
  "language_info": {
   "codemirror_mode": {
    "name": "ipython",
    "version": 3
   },
   "file_extension": ".py",
   "mimetype": "text/x-python",
   "name": "python",
   "nbconvert_exporter": "python",
   "pygments_lexer": "ipython3",
   "version": "3.7.3"
  }
 },
 "nbformat": 4,
 "nbformat_minor": 4
}
